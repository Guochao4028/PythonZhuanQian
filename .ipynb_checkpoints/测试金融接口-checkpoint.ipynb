{
 "cells": [
  {
   "cell_type": "code",
   "execution_count": 99,
   "metadata": {},
   "outputs": [],
   "source": [
    "# 金融数据包\n",
    "import tushare as sys\n",
    "# get_hist_data三年的股票数据 （code(股票代码，即6位数字代码，或者指数代码（sh=上证指数 sz=深圳成指 hs300=沪深300指数 sz50=上证50 zxb=中小板 cyb=创业板）)，开始时间，结束时间）\n",
    "# date = sys.get_hist_data('', start='2016-01-01', end='2019-12-31')\n",
    "# print(date)"
   ]
  },
  {
   "cell_type": "code",
   "execution_count": 110,
   "metadata": {},
   "outputs": [],
   "source": [
    "# 把获得股票数据写入文件\n",
    "def writeAFileFunc(path, date):\n",
    "    f = open(path, \"a\")\n",
    "    df = date\n",
    "    df.to_csv(path, sep=',', header=True, index=True)\n",
    "    f.close()\n",
    "    return"
   ]
  },
  {
   "cell_type": "code",
   "execution_count": 111,
   "metadata": {},
   "outputs": [],
   "source": [
    "# 获得今天的股票数据\n",
    "date = sys.get_day_all()\n",
    "# 调用方法 写入文件\n",
    "writeAFileFunc('/Users/mac/Desktop/excelwrite.csv', date)\n",
    "\n",
    "# print(date)\n",
    "\n",
    "# tem = sys.get_k_data(date['code'])\n",
    "# print(date)\n",
    "# for i in date['code']:\n",
    "#     k = sys.get_k_data(i)\n",
    "#     writeAFileFunc('/Users/mac/Desktop/GuPiaoInfo/excelwrite{0}.csv'.format(i), k)\n",
    "    "
   ]
  },
  {
   "cell_type": "code",
   "execution_count": 95,
   "metadata": {},
   "outputs": [],
   "source": [
    "# 调用方法 写入文件\n",
    "writeAFileFunc('/Users/mac/Desktop/excelwrite.csv', date)\n"
   ]
  },
  {
   "cell_type": "code",
   "execution_count": null,
   "metadata": {},
   "outputs": [],
   "source": []
  }
 ],
 "metadata": {
  "kernelspec": {
   "display_name": "Python 3",
   "language": "python",
   "name": "python3"
  },
  "language_info": {
   "codemirror_mode": {
    "name": "ipython",
    "version": 3
   },
   "file_extension": ".py",
   "mimetype": "text/x-python",
   "name": "python",
   "nbconvert_exporter": "python",
   "pygments_lexer": "ipython3",
   "version": "3.7.4"
  }
 },
 "nbformat": 4,
 "nbformat_minor": 2
}
